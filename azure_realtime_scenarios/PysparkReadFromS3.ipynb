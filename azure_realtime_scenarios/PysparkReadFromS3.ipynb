{
 "cells": [
  {
   "cell_type": "code",
   "execution_count": null,
   "metadata": {},
   "outputs": [],
   "source": [
    "\n",
    "#https://mvnrepository.com/artifact/com.amazonaws/aws-java-sdk-dynamodb/1.12.183\n",
    "#D:\\bigdata\\hadoop-3.2.2\\share\\hadoop\\tools\\lib\\hadoop-aws-3.2.2.jar\n",
    "#https://mvnrepository.com/artifact/com.amazonaws/aws-java-sdk-s3/1.12.183\n",
    "#https://mvnrepository.com/artifact/com.amazonaws/aws-java-sdk-core/1.12.183\n",
    "#https://mvnrepository.com/artifact/com.amazonaws/aws-java-sdk/1.12.183\n",
    "\n",
    "from pyspark.sql import *\n",
    "from pyspark.sql.functions import *\n",
    "\n",
    "spark = SparkSession.builder.master(\"local\").appName(\"test\").getOrCreate()\n",
    "Access_key_ID=\"KKIA2FDNHA\"\n",
    "Secret_access_key=\"HhymrUkLCwWpu0SqO3/FDwwmw/0eB\"\n",
    "#Enable hadoop s3a settings\n",
    "spark.sparkContext._jsc.hadoopConfiguration().set(\"com.amazonaws.services.s3.enableV4\", \"true\")\n",
    "spark.sparkContext._jsc.hadoopConfiguration().set(\"fs.s3a.impl\", \"org.apache.hadoop.fs.s3a.S3AFileSystem\")\n",
    "spark.sparkContext._jsc.hadoopConfiguration().set(\"fs.s3a.aws.credentials.provider\", \\\n",
    "                                     \"com.amazonaws.auth.InstanceProfileCredentialsProvider,com.amazonaws.auth.DefaultAWSCredentialsProviderChain\")\n",
    "spark.sparkContext._jsc.hadoopConfiguration().set(\"fs.AbstractFileSystem.s3a.impl\", \"org.apache.hadoop.fs.s3a.S3A\")\n",
    "\n",
    "spark.sparkContext._jsc.hadoopConfiguration().set(\"fs.s3a.access.key\",Access_key_ID)\n",
    "spark.sparkContext._jsc.hadoopConfiguration().set(\"fs.s3a.secret.key\",Secret_access_key)\n",
    "spark.sparkContext._jsc.hadoopConfiguration().set(\"fs.s3a.endpoint\", \"s3.ap-south-1.amazonaws.com\")\n",
    "\n",
    "data=\"s3a://s3databucket/input/us-500.csv\"\n",
    "df=spark.read.format('csv').option(\"header\",\"true\").option(\"inferSchema\",\"true\").load(data)\n",
    "df.show()"
   ]
  }
 ],
 "metadata": {
  "language_info": {
   "name": "python"
  }
 },
 "nbformat": 4,
 "nbformat_minor": 2
}
